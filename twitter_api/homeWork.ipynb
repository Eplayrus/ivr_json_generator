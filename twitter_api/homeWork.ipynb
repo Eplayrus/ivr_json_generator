{
 "cells": [
  {
   "cell_type": "code",
   "execution_count": 4,
   "id": "c748ddbd-2894-411c-83e0-60bf483eeaf8",
   "metadata": {},
   "outputs": [
    {
     "ename": "ValueError",
     "evalue": "must define at least one ordering operation: < > <= >=",
     "output_type": "error",
     "traceback": [
      "\u001b[1;31m---------------------------------------------------------------------------\u001b[0m",
      "\u001b[1;31mValueError\u001b[0m                                Traceback (most recent call last)",
      "Cell \u001b[1;32mIn[4], line 8\u001b[0m\n\u001b[0;32m      5\u001b[0m \u001b[38;5;28;01mfrom\u001b[39;00m \u001b[38;5;21;01mfunctools\u001b[39;00m \u001b[38;5;28;01mimport\u001b[39;00m total_ordering\n\u001b[0;32m      6\u001b[0m \u001b[38;5;28;01mfrom\u001b[39;00m \u001b[38;5;21;01mtyping\u001b[39;00m \u001b[38;5;28;01mimport\u001b[39;00m Any\n\u001b[1;32m----> 8\u001b[0m \u001b[38;5;129;43m@total_ordering\u001b[39;49m\n\u001b[0;32m      9\u001b[0m \u001b[38;5;28;43;01mclass\u001b[39;49;00m\u001b[43m \u001b[49m\u001b[38;5;21;43;01mMillimeter\u001b[39;49;00m\u001b[43m:\u001b[49m\n\u001b[0;32m     10\u001b[0m \u001b[43m    \u001b[49m\u001b[43mlabel\u001b[49m\u001b[43m \u001b[49m\u001b[38;5;241;43m=\u001b[39;49m\u001b[43m \u001b[49m\u001b[38;5;124;43m'\u001b[39;49m\u001b[38;5;124;43mмм\u001b[39;49m\u001b[38;5;124;43m'\u001b[39;49m\n\u001b[0;32m     11\u001b[0m \u001b[43m    \u001b[49m\u001b[43mratio\u001b[49m\u001b[43m \u001b[49m\u001b[38;5;241;43m=\u001b[39;49m\u001b[43m \u001b[49m\u001b[38;5;241;43m1\u001b[39;49m\u001b[43m \u001b[49m\u001b[38;5;66;43;03m# Отношение определяемой еденицы измерения к миллиметрам\u001b[39;49;00m\n",
      "File \u001b[1;32mC:\\Program Files\\WindowsApps\\PythonSoftwareFoundation.Python.3.12_3.12.2288.0_x64__qbz5n2kfra8p0\\Lib\\functools.py:193\u001b[0m, in \u001b[0;36mtotal_ordering\u001b[1;34m(cls)\u001b[0m\n\u001b[0;32m    191\u001b[0m roots \u001b[38;5;241m=\u001b[39m {op \u001b[38;5;28;01mfor\u001b[39;00m op \u001b[38;5;129;01min\u001b[39;00m _convert \u001b[38;5;28;01mif\u001b[39;00m \u001b[38;5;28mgetattr\u001b[39m(\u001b[38;5;28mcls\u001b[39m, op, \u001b[38;5;28;01mNone\u001b[39;00m) \u001b[38;5;129;01mis\u001b[39;00m \u001b[38;5;129;01mnot\u001b[39;00m \u001b[38;5;28mgetattr\u001b[39m(\u001b[38;5;28mobject\u001b[39m, op, \u001b[38;5;28;01mNone\u001b[39;00m)}\n\u001b[0;32m    192\u001b[0m \u001b[38;5;28;01mif\u001b[39;00m \u001b[38;5;129;01mnot\u001b[39;00m roots:\n\u001b[1;32m--> 193\u001b[0m     \u001b[38;5;28;01mraise\u001b[39;00m \u001b[38;5;167;01mValueError\u001b[39;00m(\u001b[38;5;124m'\u001b[39m\u001b[38;5;124mmust define at least one ordering operation: < > <= >=\u001b[39m\u001b[38;5;124m'\u001b[39m)\n\u001b[0;32m    194\u001b[0m root \u001b[38;5;241m=\u001b[39m \u001b[38;5;28mmax\u001b[39m(roots)       \u001b[38;5;66;03m# prefer __lt__ to __le__ to __gt__ to __ge__\u001b[39;00m\n\u001b[0;32m    195\u001b[0m \u001b[38;5;28;01mfor\u001b[39;00m opname, opfunc \u001b[38;5;129;01min\u001b[39;00m _convert[root]:\n",
      "\u001b[1;31mValueError\u001b[0m: must define at least one ordering operation: < > <= >="
     ]
    }
   ],
   "source": [
    "#@title Код модуля distance.py\n",
    "\n",
    "\n",
    "\n",
    "from functools import total_ordering\n",
    "from typing import Any\n",
    "\n",
    "@total_ordering\n",
    "class Millimeter:\n",
    "    label = 'мм'\n",
    "    ratio = 1 # Отношение определяемой еденицы измерения к миллиметрам\n",
    "\n",
    "    def __init__(self, value) -> None:\n",
    "        pass\n",
    "\n",
    "    def as_millimeters(self) -> float:\n",
    "        \"\"\"Возвращает значение длины в миллиметах.\n",
    "\n",
    "        :rtype: float\n",
    "        :return: Значение округленное до 5 знаков после запятой\n",
    "        \"\"\"\n",
    "        return round(self._value * self.ratio, 5)\n",
    "\n",
    "class Centimeter(Millimeter):\n",
    "    label = 'см'\n",
    "    ratio = 10\n",
    "\n",
    "\n",
    "class Meter(Millimeter):\n",
    "    label = 'метр'\n",
    "    ratio = 11\n",
    "\n",
    "\n",
    "class Inch(Millimeter):\n",
    "    label = 'дюйм'\n",
    "    ratio = 12\n"
   ]
  },
  {
   "cell_type": "code",
   "execution_count": null,
   "id": "a40932a2-e155-49d7-a977-0421472af6d6",
   "metadata": {},
   "outputs": [],
   "source": []
  }
 ],
 "metadata": {
  "kernelspec": {
   "display_name": "Python 3 (ipykernel)",
   "language": "python",
   "name": "python3"
  },
  "language_info": {
   "codemirror_mode": {
    "name": "ipython",
    "version": 3
   },
   "file_extension": ".py",
   "mimetype": "text/x-python",
   "name": "python",
   "nbconvert_exporter": "python",
   "pygments_lexer": "ipython3",
   "version": "3.12.8"
  }
 },
 "nbformat": 4,
 "nbformat_minor": 5
}
