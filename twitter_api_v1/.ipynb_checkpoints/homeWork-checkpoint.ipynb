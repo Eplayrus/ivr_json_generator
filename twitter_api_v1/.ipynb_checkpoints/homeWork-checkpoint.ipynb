{
 "cells": [
  {
   "cell_type": "code",
   "execution_count": 1,
   "id": "3d53ca50-1956-453f-90cf-2a2cc402a35d",
   "metadata": {},
   "outputs": [],
   "source": [
    "class User:\n",
    "    name = ''\n",
    "    email = ''\n",
    "    approved_by = ''\n",
    "    \n",
    "    def __init__(self, name, email):\n",
    "        self.name = name\n",
    "        self.email = email\n",
    "        \n",
    "    def show(self):\n",
    "        print('Name: ', self.name)\n",
    "        print('Email: ', self.email)\n",
    "        print('Approved by: ', self.approved_by)\n",
    "    "
   ]
  },
  {
   "cell_type": "code",
   "execution_count": 9,
   "id": "9737270e-e4bb-4119-82b6-fd362466be45",
   "metadata": {},
   "outputs": [],
   "source": [
    "class AdminUser(User):\n",
    "    def __init__(self, name, email):\n",
    "        # super возвращает все поля и методы класса-родителя, от которого мы наследуем новый класс\n",
    "        super().__init__(name, email)\n",
    "        self.approved_by = 'admin'\n",
    "        \n",
    "    def approve(self, user:User):\n",
    "        user.approved_by = self.name"
   ]
  },
  {
   "cell_type": "code",
   "execution_count": 3,
   "id": "eb9aefcb-6a29-4f56-984f-f1428661008c",
   "metadata": {},
   "outputs": [],
   "source": [
    "user = User('aleks', 'mail@alex.com')\n",
    "admin = AdminUser('ivan', 'mail@ivan.com')"
   ]
  },
  {
   "cell_type": "code",
   "execution_count": 4,
   "id": "dfbf5987-380e-450a-83ec-17f8ed346324",
   "metadata": {},
   "outputs": [],
   "source": [
    "admin.approve(user)"
   ]
  },
  {
   "cell_type": "code",
   "execution_count": 5,
   "id": "af5e4024-68a4-4d04-b52b-eedfbd8ed11a",
   "metadata": {},
   "outputs": [
    {
     "name": "stdout",
     "output_type": "stream",
     "text": [
      "Name:  aleks\n",
      "Email:  mail@alex.com\n",
      "Approved by:  ivan\n"
     ]
    }
   ],
   "source": [
    "user.show()"
   ]
  },
  {
   "cell_type": "code",
   "execution_count": 6,
   "id": "ab6d3da5-a050-463f-bc9f-44bab6e1e3a2",
   "metadata": {},
   "outputs": [
    {
     "name": "stdout",
     "output_type": "stream",
     "text": [
      "Name:  ivan\n",
      "Email:  mail@ivan.com\n",
      "Approved by:  admin\n"
     ]
    }
   ],
   "source": [
    "admin.show()"
   ]
  },
  {
   "cell_type": "code",
   "execution_count": 7,
   "id": "400c7140-0762-44ef-a7ab-b3c7fc43130d",
   "metadata": {},
   "outputs": [],
   "source": [
    "admin2 = AdminUser('petr', 'mail@petr.com')\n",
    "admin2.approve(admin)"
   ]
  },
  {
   "cell_type": "code",
   "execution_count": 8,
   "id": "8176cf39-6603-41f8-9ada-19367c668c26",
   "metadata": {},
   "outputs": [
    {
     "name": "stdout",
     "output_type": "stream",
     "text": [
      "Name:  ivan\n",
      "Email:  mail@ivan.com\n",
      "Approved by:  petr\n"
     ]
    }
   ],
   "source": [
    "admin.show()"
   ]
  },
  {
   "cell_type": "code",
   "execution_count": 10,
   "id": "e5726fc2-5aa7-439a-b7ae-81cabe87c1f5",
   "metadata": {},
   "outputs": [],
   "source": [
    "class RegularUser(User):\n",
    "    def __init__(self, name, email):\n",
    "        super().__init__(name, email)"
   ]
  },
  {
   "cell_type": "code",
   "execution_count": 11,
   "id": "876bc814-8cba-448c-92cf-5e49c8714936",
   "metadata": {},
   "outputs": [],
   "source": [
    "regularUser = RegularUser(\"Alisa\", \"mail@alisa.com\")"
   ]
  },
  {
   "cell_type": "code",
   "execution_count": 13,
   "id": "a191f216-3433-481e-bbdf-7a6134ac01c0",
   "metadata": {},
   "outputs": [
    {
     "name": "stdout",
     "output_type": "stream",
     "text": [
      "Name:  Alisa\n",
      "Email:  mail@alisa.com\n",
      "Approved by:  \n"
     ]
    }
   ],
   "source": [
    "regularUser.show()"
   ]
  },
  {
   "cell_type": "code",
   "execution_count": null,
   "id": "ebf46242-2c31-4033-ace7-b9af5076b37c",
   "metadata": {},
   "outputs": [],
   "source": []
  }
 ],
 "metadata": {
  "kernelspec": {
   "display_name": "Python 3 (ipykernel)",
   "language": "python",
   "name": "python3"
  },
  "language_info": {
   "codemirror_mode": {
    "name": "ipython",
    "version": 3
   },
   "file_extension": ".py",
   "mimetype": "text/x-python",
   "name": "python",
   "nbconvert_exporter": "python",
   "pygments_lexer": "ipython3",
   "version": "3.12.8"
  }
 },
 "nbformat": 4,
 "nbformat_minor": 5
}
